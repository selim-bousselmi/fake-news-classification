{
 "cells": [
  {
   "cell_type": "markdown",
   "metadata": {},
   "source": [
    "# Data merging"
   ]
  },
  {
   "cell_type": "markdown",
   "metadata": {},
   "source": [
    "In this notebook, I will be importing multiple datasets from different sources, and I will merge them all into a big cohesive dataset."
   ]
  },
  {
   "cell_type": "markdown",
   "metadata": {},
   "source": [
    "## Step 1: Datasets harmonization\n",
    "This step consists of transforming all the datasets into a unified format with a consistent structure. This step is crucial for enabling subsequent operations like data merging and analysis.<br>\n",
    "For each dataset, I will only keep two features : the text feature (the text of the news) and the label : 1 for fake and 0 for true."
   ]
  },
  {
   "cell_type": "markdown",
   "metadata": {
    "id": "7VdP75bAgxuD"
   },
   "source": [
    "### ISOT Fake News Dataset\n",
    "[ISOT Fake News Dataset](https://onlineacademiccommunity.uvic.ca/isot/2022/11/27/fake-news-detection-datasets/) <br>\n",
    "The ISOT Fake News dataset is a compilation of several thousands fake news and truthful articles, obtained from different legitimate news sites and sites flagged as unreliable by Politifact.com.\n"
   ]
  },
  {
   "cell_type": "code",
   "execution_count": 1,
   "metadata": {
    "colab": {
     "base_uri": "https://localhost:8080/"
    },
    "executionInfo": {
     "elapsed": 3005,
     "status": "ok",
     "timestamp": 1687219268379,
     "user": {
      "displayName": "Slim Bousselmi",
      "userId": "09244065138941200838"
     },
     "user_tz": -60
    },
    "id": "kGTG6L48xEL1",
    "outputId": "d2e513cb-9ad6-420a-9de9-d08d8e7a0849"
   },
   "outputs": [],
   "source": [
    "import zipfile\n",
    "zip_path = 'C:\\\\Users\\\\Slim\\\\fake-news-classification\\\\data\\\\zipfiles\\\\news_dataset.zip'\n",
    "\n",
    "# Specify the target directory where the files should be extracted\n",
    "target_directory = 'C:\\\\Users\\\\Slim\\\\fake-news-classification\\\\data'\n",
    "\n",
    "with zipfile.ZipFile(zip_path, 'r') as zip_ref:\n",
    "    # Extract all files to the target directory\n",
    "    zip_ref.extractall(target_directory)"
   ]
  },
  {
   "cell_type": "code",
   "execution_count": 2,
   "metadata": {
    "executionInfo": {
     "elapsed": 2003,
     "status": "ok",
     "timestamp": 1687219270380,
     "user": {
      "displayName": "Slim Bousselmi",
      "userId": "09244065138941200838"
     },
     "user_tz": -60
    },
    "id": "AhKAL04WxqQF"
   },
   "outputs": [],
   "source": [
    "import pandas as pd\n",
    "fakedf = pd.read_csv('C:\\\\Users\\\\Slim\\\\fake-news-classification\\\\data\\\\Fake.csv')\n",
    "truedf = pd.read_csv('C:\\\\Users\\\\Slim\\\\fake-news-classification\\\\data\\\\True.csv')"
   ]
  },
  {
   "cell_type": "code",
   "execution_count": 3,
   "metadata": {
    "colab": {
     "base_uri": "https://localhost:8080/"
    },
    "executionInfo": {
     "elapsed": 30,
     "status": "ok",
     "timestamp": 1687219270381,
     "user": {
      "displayName": "Slim Bousselmi",
      "userId": "09244065138941200838"
     },
     "user_tz": -60
    },
    "id": "hktPAAMDx1wp",
    "outputId": "7046eabe-a3f7-4568-c138-9b2ed4eba22b"
   },
   "outputs": [
    {
     "name": "stdout",
     "output_type": "stream",
     "text": [
      "<class 'pandas.core.frame.DataFrame'>\n",
      "RangeIndex: 23481 entries, 0 to 23480\n",
      "Data columns (total 4 columns):\n",
      " #   Column   Non-Null Count  Dtype \n",
      "---  ------   --------------  ----- \n",
      " 0   title    23481 non-null  object\n",
      " 1   text     23481 non-null  object\n",
      " 2   subject  23481 non-null  object\n",
      " 3   date     23481 non-null  object\n",
      "dtypes: object(4)\n",
      "memory usage: 733.9+ KB\n"
     ]
    }
   ],
   "source": [
    "fakedf.info()"
   ]
  },
  {
   "cell_type": "code",
   "execution_count": 4,
   "metadata": {
    "colab": {
     "base_uri": "https://localhost:8080/"
    },
    "executionInfo": {
     "elapsed": 25,
     "status": "ok",
     "timestamp": 1687219270382,
     "user": {
      "displayName": "Slim Bousselmi",
      "userId": "09244065138941200838"
     },
     "user_tz": -60
    },
    "id": "YUa7XiXHhfHC",
    "outputId": "d6c531c7-04ff-4965-c415-78646aee4358"
   },
   "outputs": [
    {
     "name": "stdout",
     "output_type": "stream",
     "text": [
      "<class 'pandas.core.frame.DataFrame'>\n",
      "RangeIndex: 21417 entries, 0 to 21416\n",
      "Data columns (total 4 columns):\n",
      " #   Column   Non-Null Count  Dtype \n",
      "---  ------   --------------  ----- \n",
      " 0   title    21417 non-null  object\n",
      " 1   text     21417 non-null  object\n",
      " 2   subject  21417 non-null  object\n",
      " 3   date     21417 non-null  object\n",
      "dtypes: object(4)\n",
      "memory usage: 669.4+ KB\n"
     ]
    }
   ],
   "source": [
    "truedf.info()"
   ]
  },
  {
   "cell_type": "code",
   "execution_count": 5,
   "metadata": {
    "executionInfo": {
     "elapsed": 19,
     "status": "ok",
     "timestamp": 1687219270382,
     "user": {
      "displayName": "Slim Bousselmi",
      "userId": "09244065138941200838"
     },
     "user_tz": -60
    },
    "id": "GV-azt8ciKIa"
   },
   "outputs": [],
   "source": [
    "fakedf['label'] = 1\n",
    "truedf['label'] = 0"
   ]
  },
  {
   "cell_type": "code",
   "execution_count": 6,
   "metadata": {
    "executionInfo": {
     "elapsed": 19,
     "status": "ok",
     "timestamp": 1687219270383,
     "user": {
      "displayName": "Slim Bousselmi",
      "userId": "09244065138941200838"
     },
     "user_tz": -60
    },
    "id": "_-3ngoU5hk33"
   },
   "outputs": [],
   "source": [
    "df1 = pd.concat([fakedf, truedf], ignore_index=True)"
   ]
  },
  {
   "cell_type": "code",
   "execution_count": 7,
   "metadata": {
    "colab": {
     "base_uri": "https://localhost:8080/"
    },
    "executionInfo": {
     "elapsed": 19,
     "status": "ok",
     "timestamp": 1687219270384,
     "user": {
      "displayName": "Slim Bousselmi",
      "userId": "09244065138941200838"
     },
     "user_tz": -60
    },
    "id": "MVPueg9nhyqk",
    "outputId": "65a805ce-0e0d-4321-810f-6f0045975f09"
   },
   "outputs": [
    {
     "name": "stdout",
     "output_type": "stream",
     "text": [
      "<class 'pandas.core.frame.DataFrame'>\n",
      "RangeIndex: 44898 entries, 0 to 44897\n",
      "Data columns (total 5 columns):\n",
      " #   Column   Non-Null Count  Dtype \n",
      "---  ------   --------------  ----- \n",
      " 0   title    44898 non-null  object\n",
      " 1   text     44898 non-null  object\n",
      " 2   subject  44898 non-null  object\n",
      " 3   date     44898 non-null  object\n",
      " 4   label    44898 non-null  int64 \n",
      "dtypes: int64(1), object(4)\n",
      "memory usage: 1.7+ MB\n"
     ]
    }
   ],
   "source": [
    "df1.info()"
   ]
  },
  {
   "cell_type": "code",
   "execution_count": 8,
   "metadata": {
    "executionInfo": {
     "elapsed": 14,
     "status": "ok",
     "timestamp": 1687219270384,
     "user": {
      "displayName": "Slim Bousselmi",
      "userId": "09244065138941200838"
     },
     "user_tz": -60
    },
    "id": "e4erB2f8jZRg"
   },
   "outputs": [],
   "source": [
    "df1.drop(['title', 'subject', 'date'], axis=1, inplace=True)"
   ]
  },
  {
   "cell_type": "code",
   "execution_count": 9,
   "metadata": {
    "colab": {
     "base_uri": "https://localhost:8080/"
    },
    "executionInfo": {
     "elapsed": 12,
     "status": "ok",
     "timestamp": 1687219270384,
     "user": {
      "displayName": "Slim Bousselmi",
      "userId": "09244065138941200838"
     },
     "user_tz": -60
    },
    "id": "15blHpNdjxsX",
    "outputId": "1d54168c-a0aa-447f-fe9b-518cb91207fe"
   },
   "outputs": [
    {
     "name": "stdout",
     "output_type": "stream",
     "text": [
      "<class 'pandas.core.frame.DataFrame'>\n",
      "RangeIndex: 44898 entries, 0 to 44897\n",
      "Data columns (total 2 columns):\n",
      " #   Column  Non-Null Count  Dtype \n",
      "---  ------  --------------  ----- \n",
      " 0   text    44898 non-null  object\n",
      " 1   label   44898 non-null  int64 \n",
      "dtypes: int64(1), object(1)\n",
      "memory usage: 701.7+ KB\n"
     ]
    }
   ],
   "source": [
    "df1.info()"
   ]
  },
  {
   "cell_type": "code",
   "execution_count": 10,
   "metadata": {
    "colab": {
     "base_uri": "https://localhost:8080/"
    },
    "executionInfo": {
     "elapsed": 434,
     "status": "ok",
     "timestamp": 1687219270809,
     "user": {
      "displayName": "Slim Bousselmi",
      "userId": "09244065138941200838"
     },
     "user_tz": -60
    },
    "id": "-FW0xbgpkNWv",
    "outputId": "5d4dcdfb-89fc-457e-ef9d-0d2be45acb2a"
   },
   "outputs": [
    {
     "data": {
      "text/plain": [
       "label\n",
       "1    23481\n",
       "0    21417\n",
       "Name: count, dtype: int64"
      ]
     },
     "execution_count": 10,
     "metadata": {},
     "output_type": "execute_result"
    }
   ],
   "source": [
    "df1['label'].value_counts()"
   ]
  },
  {
   "cell_type": "markdown",
   "metadata": {
    "jp-MarkdownHeadingCollapsed": true
   },
   "source": [
    "### WELFake dataset\n",
    "[WELFake dataset](https://zenodo.org/record/4561253) <br>\n",
    "WELFake is a dataset of 72,134 news articles with 35,028 real and 37,106 fake news.\n"
   ]
  },
  {
   "cell_type": "code",
   "execution_count": 11,
   "metadata": {
    "colab": {
     "base_uri": "https://localhost:8080/"
    },
    "executionInfo": {
     "elapsed": 5803,
     "status": "ok",
     "timestamp": 1687180658458,
     "user": {
      "displayName": "Slim Bousselmi",
      "userId": "09244065138941200838"
     },
     "user_tz": -60
    },
    "id": "OxDLsKQvUF30",
    "outputId": "987d3889-aa2e-46ef-cb5f-0cc98f3e87e9"
   },
   "outputs": [],
   "source": [
    "zip_path = 'C:\\\\Users\\\\Slim\\\\fake-news-classification\\\\data\\\\zipfiles\\\\WELFake_Dataset.zip'\n",
    "\n",
    "# Specify the target directory where the files should be extracted\n",
    "target_directory = 'C:\\\\Users\\\\Slim\\\\fake-news-classification\\\\data'\n",
    "\n",
    "with zipfile.ZipFile(zip_path, 'r') as zip_ref:\n",
    "    # Extract all files to the target directory\n",
    "    zip_ref.extractall(target_directory)"
   ]
  },
  {
   "cell_type": "code",
   "execution_count": 12,
   "metadata": {
    "id": "7ky1bmqOWkEp"
   },
   "outputs": [],
   "source": [
    "df2 = pd.read_csv('C:\\\\Users\\\\Slim\\\\fake-news-classification\\\\data\\\\WELFake_Dataset.csv')"
   ]
  },
  {
   "cell_type": "code",
   "execution_count": 13,
   "metadata": {
    "colab": {
     "base_uri": "https://localhost:8080/"
    },
    "executionInfo": {
     "elapsed": 17,
     "status": "ok",
     "timestamp": 1687180663178,
     "user": {
      "displayName": "Slim Bousselmi",
      "userId": "09244065138941200838"
     },
     "user_tz": -60
    },
    "id": "1riIKGuCWueM",
    "outputId": "debbbee7-5cd7-4603-a230-8e3c9a786f51"
   },
   "outputs": [
    {
     "name": "stdout",
     "output_type": "stream",
     "text": [
      "<class 'pandas.core.frame.DataFrame'>\n",
      "RangeIndex: 72134 entries, 0 to 72133\n",
      "Data columns (total 4 columns):\n",
      " #   Column      Non-Null Count  Dtype \n",
      "---  ------      --------------  ----- \n",
      " 0   Unnamed: 0  72134 non-null  int64 \n",
      " 1   title       71576 non-null  object\n",
      " 2   text        72095 non-null  object\n",
      " 3   label       72134 non-null  int64 \n",
      "dtypes: int64(2), object(2)\n",
      "memory usage: 2.2+ MB\n"
     ]
    }
   ],
   "source": [
    "df2.info()"
   ]
  },
  {
   "cell_type": "code",
   "execution_count": 14,
   "metadata": {
    "id": "__w1NgqBnZxa"
   },
   "outputs": [],
   "source": [
    "df2 = df2.dropna()"
   ]
  },
  {
   "cell_type": "code",
   "execution_count": 15,
   "metadata": {
    "colab": {
     "base_uri": "https://localhost:8080/"
    },
    "executionInfo": {
     "elapsed": 10,
     "status": "ok",
     "timestamp": 1687180663179,
     "user": {
      "displayName": "Slim Bousselmi",
      "userId": "09244065138941200838"
     },
     "user_tz": -60
    },
    "id": "hReXXkM0lrtF",
    "outputId": "eca6fb3f-b5c0-423a-ca22-34ff20107da6"
   },
   "outputs": [],
   "source": [
    "df2.drop(['Unnamed: 0', 'title'], axis=1, inplace=True)"
   ]
  },
  {
   "cell_type": "code",
   "execution_count": 16,
   "metadata": {
    "id": "xYP7F1XHnpPc"
   },
   "outputs": [],
   "source": [
    "df2['label'] = df2['label'].map({0: 1, 1: 0})"
   ]
  },
  {
   "cell_type": "code",
   "execution_count": 17,
   "metadata": {
    "colab": {
     "base_uri": "https://localhost:8080/"
    },
    "executionInfo": {
     "elapsed": 8,
     "status": "ok",
     "timestamp": 1687180663703,
     "user": {
      "displayName": "Slim Bousselmi",
      "userId": "09244065138941200838"
     },
     "user_tz": -60
    },
    "id": "qB40vByVptX4",
    "outputId": "7c9893bb-af06-44b7-ac92-c1e10797e426"
   },
   "outputs": [
    {
     "name": "stdout",
     "output_type": "stream",
     "text": [
      "<class 'pandas.core.frame.DataFrame'>\n",
      "Index: 71537 entries, 0 to 72133\n",
      "Data columns (total 2 columns):\n",
      " #   Column  Non-Null Count  Dtype \n",
      "---  ------  --------------  ----- \n",
      " 0   text    71537 non-null  object\n",
      " 1   label   71537 non-null  int64 \n",
      "dtypes: int64(1), object(1)\n",
      "memory usage: 1.6+ MB\n"
     ]
    }
   ],
   "source": [
    "df2.info()"
   ]
  },
  {
   "cell_type": "code",
   "execution_count": 18,
   "metadata": {
    "colab": {
     "base_uri": "https://localhost:8080/"
    },
    "executionInfo": {
     "elapsed": 9,
     "status": "ok",
     "timestamp": 1687180663702,
     "user": {
      "displayName": "Slim Bousselmi",
      "userId": "09244065138941200838"
     },
     "user_tz": -60
    },
    "id": "7H_9G4nBmeFE",
    "outputId": "1284e1dd-5bc5-4099-d47d-0b250f3d3419"
   },
   "outputs": [
    {
     "data": {
      "text/plain": [
       "label\n",
       "0    36509\n",
       "1    35028\n",
       "Name: count, dtype: int64"
      ]
     },
     "execution_count": 18,
     "metadata": {},
     "output_type": "execute_result"
    }
   ],
   "source": [
    "df2['label'].value_counts()"
   ]
  },
  {
   "cell_type": "markdown",
   "metadata": {
    "id": "eGu0A-2b0lmO",
    "jp-MarkdownHeadingCollapsed": true
   },
   "source": [
    "### Fake news dataset\n",
    "[Fake news dataset from Kaggle](https://www.kaggle.com/datasets/hassanamin/textdb3) <br>\n",
    "This is a labeled dataset that I acquired from Kaggle.\n"
   ]
  },
  {
   "cell_type": "code",
   "execution_count": 19,
   "metadata": {
    "colab": {
     "base_uri": "https://localhost:8080/"
    },
    "executionInfo": {
     "elapsed": 2747,
     "status": "ok",
     "timestamp": 1687181000363,
     "user": {
      "displayName": "Slim Bousselmi",
      "userId": "09244065138941200838"
     },
     "user_tz": -60
    },
    "id": "ZcmzS0GyvvIH",
    "outputId": "ebc34e01-c19d-4a99-faca-de6713c9704b"
   },
   "outputs": [],
   "source": [
    "zip_path = 'C:\\\\Users\\\\Slim\\\\fake-news-classification\\\\data\\\\zipfiles\\\\archive.zip'\n",
    "\n",
    "# Specify the target directory where the files should be extracted\n",
    "target_directory = 'C:\\\\Users\\\\Slim\\\\fake-news-classification\\\\data'\n",
    "\n",
    "with zipfile.ZipFile(zip_path, 'r') as zip_ref:\n",
    "    # Extract all files to the target directory\n",
    "    zip_ref.extractall(target_directory)"
   ]
  },
  {
   "cell_type": "code",
   "execution_count": 20,
   "metadata": {
    "id": "Xyk_aC0Em5Li"
   },
   "outputs": [],
   "source": [
    "df3 = pd.read_csv('C:\\\\Users\\\\Slim\\\\fake-news-classification\\\\data\\\\fake_or_real_news.csv')"
   ]
  },
  {
   "cell_type": "code",
   "execution_count": 21,
   "metadata": {
    "colab": {
     "base_uri": "https://localhost:8080/"
    },
    "executionInfo": {
     "elapsed": 575,
     "status": "ok",
     "timestamp": 1687181026991,
     "user": {
      "displayName": "Slim Bousselmi",
      "userId": "09244065138941200838"
     },
     "user_tz": -60
    },
    "id": "alyi-kgNhxeR",
    "outputId": "1617e46d-be72-4433-afa3-432ae0bcba46"
   },
   "outputs": [
    {
     "name": "stdout",
     "output_type": "stream",
     "text": [
      "<class 'pandas.core.frame.DataFrame'>\n",
      "RangeIndex: 6335 entries, 0 to 6334\n",
      "Data columns (total 4 columns):\n",
      " #   Column      Non-Null Count  Dtype \n",
      "---  ------      --------------  ----- \n",
      " 0   Unnamed: 0  6335 non-null   int64 \n",
      " 1   title       6335 non-null   object\n",
      " 2   text        6335 non-null   object\n",
      " 3   label       6335 non-null   object\n",
      "dtypes: int64(1), object(3)\n",
      "memory usage: 198.1+ KB\n"
     ]
    }
   ],
   "source": [
    "df3.info()"
   ]
  },
  {
   "cell_type": "code",
   "execution_count": 22,
   "metadata": {
    "id": "5Yf1aQRd4eve"
   },
   "outputs": [],
   "source": [
    "df3.drop(['Unnamed: 0', 'title'], axis=1, inplace=True)"
   ]
  },
  {
   "cell_type": "code",
   "execution_count": 23,
   "metadata": {
    "colab": {
     "base_uri": "https://localhost:8080/"
    },
    "executionInfo": {
     "elapsed": 5,
     "status": "ok",
     "timestamp": 1687181093279,
     "user": {
      "displayName": "Slim Bousselmi",
      "userId": "09244065138941200838"
     },
     "user_tz": -60
    },
    "id": "Ale0-8i_4eyF",
    "outputId": "b0945e3f-765a-40f2-b7ab-70c6518980a1"
   },
   "outputs": [
    {
     "data": {
      "text/plain": [
       "label\n",
       "REAL    3171\n",
       "FAKE    3164\n",
       "Name: count, dtype: int64"
      ]
     },
     "execution_count": 23,
     "metadata": {},
     "output_type": "execute_result"
    }
   ],
   "source": [
    "df3['label'].value_counts()"
   ]
  },
  {
   "cell_type": "code",
   "execution_count": 24,
   "metadata": {
    "id": "7t-oukbx4e0K"
   },
   "outputs": [],
   "source": [
    "df3['label'] = df3['label'].map({'REAL': 0, 'FAKE': 1})"
   ]
  },
  {
   "cell_type": "code",
   "execution_count": 25,
   "metadata": {},
   "outputs": [
    {
     "name": "stdout",
     "output_type": "stream",
     "text": [
      "<class 'pandas.core.frame.DataFrame'>\n",
      "RangeIndex: 6335 entries, 0 to 6334\n",
      "Data columns (total 2 columns):\n",
      " #   Column  Non-Null Count  Dtype \n",
      "---  ------  --------------  ----- \n",
      " 0   text    6335 non-null   object\n",
      " 1   label   6335 non-null   int64 \n",
      "dtypes: int64(1), object(1)\n",
      "memory usage: 99.1+ KB\n"
     ]
    }
   ],
   "source": [
    "df3.info()"
   ]
  },
  {
   "cell_type": "code",
   "execution_count": 26,
   "metadata": {
    "colab": {
     "base_uri": "https://localhost:8080/"
    },
    "executionInfo": {
     "elapsed": 4,
     "status": "ok",
     "timestamp": 1687181183846,
     "user": {
      "displayName": "Slim Bousselmi",
      "userId": "09244065138941200838"
     },
     "user_tz": -60
    },
    "id": "WJhX1O96mbjK",
    "outputId": "8e669577-449e-47f4-983d-97078bf5dc62"
   },
   "outputs": [
    {
     "data": {
      "text/plain": [
       "label\n",
       "0    3171\n",
       "1    3164\n",
       "Name: count, dtype: int64"
      ]
     },
     "execution_count": 26,
     "metadata": {},
     "output_type": "execute_result"
    }
   ],
   "source": [
    "df3['label'].value_counts()"
   ]
  },
  {
   "cell_type": "markdown",
   "metadata": {
    "jp-MarkdownHeadingCollapsed": true
   },
   "source": [
    "### Fake-Real News Kaggle dataset\n",
    "[Fake-real news Kaggle dataset](https://www.kaggle.com/datasets/techykajal/fakereal-news) <br>\n",
    "This is another labeled dataset that I acquired from Kaggle.\n"
   ]
  },
  {
   "cell_type": "code",
   "execution_count": 27,
   "metadata": {
    "colab": {
     "base_uri": "https://localhost:8080/"
    },
    "executionInfo": {
     "elapsed": 1698,
     "status": "ok",
     "timestamp": 1687182287508,
     "user": {
      "displayName": "Slim Bousselmi",
      "userId": "09244065138941200838"
     },
     "user_tz": -60
    },
    "id": "jylbFz0w3Azg",
    "outputId": "80e47fd9-8e8a-4893-b1fe-43b288b8a977"
   },
   "outputs": [],
   "source": [
    "zip_path = 'C:\\\\Users\\\\Slim\\\\fake-news-classification\\\\data\\\\zipfiles\\\\archive2.zip'\n",
    "\n",
    "# Specify the target directory where the files should be extracted\n",
    "target_directory = 'C:\\\\Users\\\\Slim\\\\fake-news-classification\\\\data'\n",
    "\n",
    "with zipfile.ZipFile(zip_path, 'r') as zip_ref:\n",
    "    # Extract all files to the target directory\n",
    "    zip_ref.extractall(target_directory)"
   ]
  },
  {
   "cell_type": "code",
   "execution_count": 28,
   "metadata": {
    "id": "xY3wWV1w5ot9"
   },
   "outputs": [],
   "source": [
    "df4 = pd.read_csv('C:\\\\Users\\\\Slim\\\\fake-news-classification\\\\data\\\\New Task.csv', encoding='latin-1')"
   ]
  },
  {
   "cell_type": "code",
   "execution_count": 29,
   "metadata": {
    "colab": {
     "base_uri": "https://localhost:8080/"
    },
    "executionInfo": {
     "elapsed": 3,
     "status": "ok",
     "timestamp": 1687182353219,
     "user": {
      "displayName": "Slim Bousselmi",
      "userId": "09244065138941200838"
     },
     "user_tz": -60
    },
    "id": "byRcaxP53A16",
    "outputId": "d57e1739-e3bf-414e-c0a7-78356f8c45f0"
   },
   "outputs": [
    {
     "name": "stdout",
     "output_type": "stream",
     "text": [
      "<class 'pandas.core.frame.DataFrame'>\n",
      "RangeIndex: 9960 entries, 0 to 9959\n",
      "Data columns (total 6 columns):\n",
      " #   Column         Non-Null Count  Dtype \n",
      "---  ------         --------------  ----- \n",
      " 0   News_Headline  9960 non-null   object\n",
      " 1   Link_Of_News   9960 non-null   object\n",
      " 2   Source         9960 non-null   object\n",
      " 3   Stated_On      9960 non-null   object\n",
      " 4   Date           9960 non-null   object\n",
      " 5   Label          9960 non-null   object\n",
      "dtypes: object(6)\n",
      "memory usage: 467.0+ KB\n"
     ]
    }
   ],
   "source": [
    "df4.info()"
   ]
  },
  {
   "cell_type": "code",
   "execution_count": 30,
   "metadata": {
    "id": "aQT5EMDx3A4U"
   },
   "outputs": [],
   "source": [
    "df4.drop(columns=['Link_Of_News', 'Source', 'Stated_On', 'Date'], axis=1, inplace=True)"
   ]
  },
  {
   "cell_type": "code",
   "execution_count": 31,
   "metadata": {
    "id": "8f0YCmES6JbB"
   },
   "outputs": [],
   "source": [
    "df4.rename(columns={\"News_Headline\": \"text\", \"Label\": \"label\"}, inplace=True)"
   ]
  },
  {
   "cell_type": "code",
   "execution_count": 32,
   "metadata": {
    "colab": {
     "base_uri": "https://localhost:8080/"
    },
    "executionInfo": {
     "elapsed": 3,
     "status": "ok",
     "timestamp": 1687182477576,
     "user": {
      "displayName": "Slim Bousselmi",
      "userId": "09244065138941200838"
     },
     "user_tz": -60
    },
    "id": "NdrT81O66VBo",
    "outputId": "f96b7cad-5a79-4cbc-ded3-7ff53e63a0d5"
   },
   "outputs": [
    {
     "name": "stdout",
     "output_type": "stream",
     "text": [
      "<class 'pandas.core.frame.DataFrame'>\n",
      "RangeIndex: 9960 entries, 0 to 9959\n",
      "Data columns (total 2 columns):\n",
      " #   Column  Non-Null Count  Dtype \n",
      "---  ------  --------------  ----- \n",
      " 0   text    9960 non-null   object\n",
      " 1   label   9960 non-null   object\n",
      "dtypes: object(2)\n",
      "memory usage: 155.8+ KB\n"
     ]
    }
   ],
   "source": [
    "df4.info()"
   ]
  },
  {
   "cell_type": "code",
   "execution_count": 33,
   "metadata": {
    "colab": {
     "base_uri": "https://localhost:8080/"
    },
    "executionInfo": {
     "elapsed": 496,
     "status": "ok",
     "timestamp": 1687182778384,
     "user": {
      "displayName": "Slim Bousselmi",
      "userId": "09244065138941200838"
     },
     "user_tz": -60
    },
    "id": "jRItcMPg6Vvi",
    "outputId": "87e8280c-54bf-428b-e493-86f381685bc3"
   },
   "outputs": [
    {
     "data": {
      "text/plain": [
       "label\n",
       "FALSE          2273\n",
       "barely-true    1737\n",
       "mostly-true    1722\n",
       "half-true      1685\n",
       "pants-fire     1402\n",
       "TRUE           1036\n",
       "full-flop        70\n",
       "half-flip        27\n",
       "no-flip           8\n",
       "Name: count, dtype: int64"
      ]
     },
     "execution_count": 33,
     "metadata": {},
     "output_type": "execute_result"
    }
   ],
   "source": [
    "df4['label'].value_counts()"
   ]
  },
  {
   "cell_type": "code",
   "execution_count": 34,
   "metadata": {
    "id": "sp_Qrsic6cK1"
   },
   "outputs": [],
   "source": [
    "df4 = df4[df4['label'].isin(['TRUE', 'FALSE'])]"
   ]
  },
  {
   "cell_type": "code",
   "execution_count": 35,
   "metadata": {
    "colab": {
     "base_uri": "https://localhost:8080/"
    },
    "executionInfo": {
     "elapsed": 4,
     "status": "ok",
     "timestamp": 1687182799866,
     "user": {
      "displayName": "Slim Bousselmi",
      "userId": "09244065138941200838"
     },
     "user_tz": -60
    },
    "id": "F99dNE246zyE",
    "outputId": "fa254016-b9fe-49f1-ae50-348cc0966dd0"
   },
   "outputs": [
    {
     "name": "stdout",
     "output_type": "stream",
     "text": [
      "<class 'pandas.core.frame.DataFrame'>\n",
      "Index: 3309 entries, 0 to 9959\n",
      "Data columns (total 2 columns):\n",
      " #   Column  Non-Null Count  Dtype \n",
      "---  ------  --------------  ----- \n",
      " 0   text    3309 non-null   object\n",
      " 1   label   3309 non-null   object\n",
      "dtypes: object(2)\n",
      "memory usage: 77.6+ KB\n"
     ]
    }
   ],
   "source": [
    "df4.info()"
   ]
  },
  {
   "cell_type": "code",
   "execution_count": 36,
   "metadata": {
    "colab": {
     "base_uri": "https://localhost:8080/"
    },
    "executionInfo": {
     "elapsed": 4,
     "status": "ok",
     "timestamp": 1687182812637,
     "user": {
      "displayName": "Slim Bousselmi",
      "userId": "09244065138941200838"
     },
     "user_tz": -60
    },
    "id": "IETcYmw37m7N",
    "outputId": "b26985c7-5893-4ff9-c1dc-13454d34dcc9"
   },
   "outputs": [
    {
     "data": {
      "text/plain": [
       "label\n",
       "FALSE    2273\n",
       "TRUE     1036\n",
       "Name: count, dtype: int64"
      ]
     },
     "execution_count": 36,
     "metadata": {},
     "output_type": "execute_result"
    }
   ],
   "source": [
    "df4['label'].value_counts()"
   ]
  },
  {
   "cell_type": "code",
   "execution_count": 37,
   "metadata": {
    "id": "4g-b0Hrf7qHg"
   },
   "outputs": [],
   "source": [
    "df4['label'] = df4['label'].map({'FALSE': 1, 'TRUE': 0})"
   ]
  },
  {
   "cell_type": "code",
   "execution_count": 38,
   "metadata": {
    "id": "gLve2MBp83HS"
   },
   "outputs": [
    {
     "data": {
      "text/plain": [
       "label\n",
       "1    2273\n",
       "0    1036\n",
       "Name: count, dtype: int64"
      ]
     },
     "execution_count": 38,
     "metadata": {},
     "output_type": "execute_result"
    }
   ],
   "source": [
    "df4['label'].value_counts()"
   ]
  },
  {
   "cell_type": "markdown",
   "metadata": {
    "id": "U-JOWHaX86T6",
    "jp-MarkdownHeadingCollapsed": true
   },
   "source": [
    "### Fake News Dataset\n",
    "[Fake News Dataset from Kaggle](https://www.kaggle.com/datasets/pnkjgpt/fake-news-dataset) <br>\n",
    "This is another labeled fake news dataset from kaggle.\n"
   ]
  },
  {
   "cell_type": "code",
   "execution_count": 39,
   "metadata": {
    "colab": {
     "base_uri": "https://localhost:8080/"
    },
    "executionInfo": {
     "elapsed": 2825,
     "status": "ok",
     "timestamp": 1687219829729,
     "user": {
      "displayName": "Slim Bousselmi",
      "userId": "09244065138941200838"
     },
     "user_tz": -60
    },
    "id": "jV2IwzDT87P2",
    "outputId": "0b251695-171a-4999-b087-fb96e9892b11"
   },
   "outputs": [],
   "source": [
    "zip_path = 'C:\\\\Users\\\\Slim\\\\fake-news-classification\\\\data\\\\zipfiles\\\\archive3.zip'\n",
    "\n",
    "# Specify the target directory where the files should be extracted\n",
    "target_directory = 'C:\\\\Users\\\\Slim\\\\fake-news-classification\\\\data'\n",
    "\n",
    "with zipfile.ZipFile(zip_path, 'r') as zip_ref:\n",
    "    # Extract all files to the target directory\n",
    "    zip_ref.extractall(target_directory)"
   ]
  },
  {
   "cell_type": "code",
   "execution_count": 40,
   "metadata": {
    "executionInfo": {
     "elapsed": 2159,
     "status": "ok",
     "timestamp": 1687219831886,
     "user": {
      "displayName": "Slim Bousselmi",
      "userId": "09244065138941200838"
     },
     "user_tz": -60
    },
    "id": "dyotHTVZHqiT"
   },
   "outputs": [],
   "source": [
    "df5 = pd.read_csv('C:\\\\Users\\\\Slim\\\\fake-news-classification\\\\data\\\\train.csv')"
   ]
  },
  {
   "cell_type": "code",
   "execution_count": 41,
   "metadata": {
    "colab": {
     "base_uri": "https://localhost:8080/"
    },
    "executionInfo": {
     "elapsed": 3,
     "status": "ok",
     "timestamp": 1687219832818,
     "user": {
      "displayName": "Slim Bousselmi",
      "userId": "09244065138941200838"
     },
     "user_tz": -60
    },
    "id": "f7hvXvg4HurD",
    "outputId": "d98f29bf-5315-43cc-9874-df167eb9283d"
   },
   "outputs": [
    {
     "name": "stdout",
     "output_type": "stream",
     "text": [
      "<class 'pandas.core.frame.DataFrame'>\n",
      "RangeIndex: 40000 entries, 0 to 39999\n",
      "Data columns (total 7 columns):\n",
      " #   Column      Non-Null Count  Dtype \n",
      "---  ------      --------------  ----- \n",
      " 0   index       40000 non-null  int64 \n",
      " 1   title       40000 non-null  object\n",
      " 2   text        40000 non-null  object\n",
      " 3   subject     40000 non-null  object\n",
      " 4   date        40000 non-null  object\n",
      " 5   class       40000 non-null  object\n",
      " 6   Unnamed: 6  1 non-null      object\n",
      "dtypes: int64(1), object(6)\n",
      "memory usage: 2.1+ MB\n"
     ]
    }
   ],
   "source": [
    "df5.info()"
   ]
  },
  {
   "cell_type": "code",
   "execution_count": 42,
   "metadata": {
    "executionInfo": {
     "elapsed": 2,
     "status": "ok",
     "timestamp": 1687219915216,
     "user": {
      "displayName": "Slim Bousselmi",
      "userId": "09244065138941200838"
     },
     "user_tz": -60
    },
    "id": "CC7962kXHvp2"
   },
   "outputs": [],
   "source": [
    "df5.drop(['index', 'title', 'subject', 'date', 'Unnamed: 6'], axis=1, inplace=True)"
   ]
  },
  {
   "cell_type": "code",
   "execution_count": 43,
   "metadata": {
    "executionInfo": {
     "elapsed": 5,
     "status": "ok",
     "timestamp": 1687219960851,
     "user": {
      "displayName": "Slim Bousselmi",
      "userId": "09244065138941200838"
     },
     "user_tz": -60
    },
    "id": "5B1zjPeLJM8k"
   },
   "outputs": [],
   "source": [
    "df5.rename(columns={\"class\": \"label\"}, inplace=True)"
   ]
  },
  {
   "cell_type": "code",
   "execution_count": 44,
   "metadata": {
    "colab": {
     "base_uri": "https://localhost:8080/"
    },
    "executionInfo": {
     "elapsed": 3,
     "status": "ok",
     "timestamp": 1687219978988,
     "user": {
      "displayName": "Slim Bousselmi",
      "userId": "09244065138941200838"
     },
     "user_tz": -60
    },
    "id": "wp2iILVnJWT3",
    "outputId": "544f26b8-efeb-4143-f9a9-22db7cd8c121"
   },
   "outputs": [
    {
     "name": "stdout",
     "output_type": "stream",
     "text": [
      "<class 'pandas.core.frame.DataFrame'>\n",
      "RangeIndex: 40000 entries, 0 to 39999\n",
      "Data columns (total 2 columns):\n",
      " #   Column  Non-Null Count  Dtype \n",
      "---  ------  --------------  ----- \n",
      " 0   text    40000 non-null  object\n",
      " 1   label   40000 non-null  object\n",
      "dtypes: object(2)\n",
      "memory usage: 625.1+ KB\n"
     ]
    }
   ],
   "source": [
    "df5.info()"
   ]
  },
  {
   "cell_type": "code",
   "execution_count": 45,
   "metadata": {
    "colab": {
     "base_uri": "https://localhost:8080/"
    },
    "executionInfo": {
     "elapsed": 3,
     "status": "ok",
     "timestamp": 1687219994379,
     "user": {
      "displayName": "Slim Bousselmi",
      "userId": "09244065138941200838"
     },
     "user_tz": -60
    },
    "id": "USbDxSE8Jbvk",
    "outputId": "ed5ddb0b-b2bc-4183-dd8a-63aa967afa2c"
   },
   "outputs": [
    {
     "data": {
      "text/plain": [
       "label\n",
       "Fake                20886\n",
       "Real                19113\n",
       "February 5, 2017        1\n",
       "Name: count, dtype: int64"
      ]
     },
     "execution_count": 45,
     "metadata": {},
     "output_type": "execute_result"
    }
   ],
   "source": [
    "df5['label'].value_counts()"
   ]
  },
  {
   "cell_type": "code",
   "execution_count": 46,
   "metadata": {
    "executionInfo": {
     "elapsed": 412,
     "status": "ok",
     "timestamp": 1687220270239,
     "user": {
      "displayName": "Slim Bousselmi",
      "userId": "09244065138941200838"
     },
     "user_tz": -60
    },
    "id": "FV8aHYpvJfq6"
   },
   "outputs": [],
   "source": [
    "df5 = df5.drop(df5[df5['label'] == 'February 5, 2017'].index)"
   ]
  },
  {
   "cell_type": "code",
   "execution_count": 47,
   "metadata": {
    "executionInfo": {
     "elapsed": 4,
     "status": "ok",
     "timestamp": 1687220318062,
     "user": {
      "displayName": "Slim Bousselmi",
      "userId": "09244065138941200838"
     },
     "user_tz": -60
    },
    "id": "3vV0gdLzKmJ-"
   },
   "outputs": [],
   "source": [
    "df5['label'] = df5['label'].map({'Fake': 1, 'Real': 0})"
   ]
  },
  {
   "cell_type": "code",
   "execution_count": 48,
   "metadata": {
    "colab": {
     "base_uri": "https://localhost:8080/"
    },
    "executionInfo": {
     "elapsed": 5,
     "status": "ok",
     "timestamp": 1687220330888,
     "user": {
      "displayName": "Slim Bousselmi",
      "userId": "09244065138941200838"
     },
     "user_tz": -60
    },
    "id": "XglPFNoEKv7v",
    "outputId": "26b8da55-6114-432e-cb4d-82126826ebcc"
   },
   "outputs": [
    {
     "data": {
      "text/plain": [
       "label\n",
       "1    20886\n",
       "0    19113\n",
       "Name: count, dtype: int64"
      ]
     },
     "execution_count": 48,
     "metadata": {},
     "output_type": "execute_result"
    }
   ],
   "source": [
    "df5['label'].value_counts()"
   ]
  },
  {
   "cell_type": "markdown",
   "metadata": {},
   "source": [
    "## Step 2: Data merging\n",
    "This step consists of bringing together all the datasets above through concatenation, and then saving the unified dataset as a new CSV file for further usage."
   ]
  },
  {
   "cell_type": "code",
   "execution_count": 49,
   "metadata": {},
   "outputs": [],
   "source": [
    "finaldf = pd.concat([df1, df2, df3, df4, df5], axis=0, ignore_index=True)"
   ]
  },
  {
   "cell_type": "code",
   "execution_count": 50,
   "metadata": {},
   "outputs": [
    {
     "name": "stdout",
     "output_type": "stream",
     "text": [
      "<class 'pandas.core.frame.DataFrame'>\n",
      "RangeIndex: 166078 entries, 0 to 166077\n",
      "Data columns (total 2 columns):\n",
      " #   Column  Non-Null Count   Dtype \n",
      "---  ------  --------------   ----- \n",
      " 0   text    166078 non-null  object\n",
      " 1   label   166078 non-null  int64 \n",
      "dtypes: int64(1), object(1)\n",
      "memory usage: 2.5+ MB\n"
     ]
    }
   ],
   "source": [
    "finaldf.info()"
   ]
  },
  {
   "cell_type": "code",
   "execution_count": 51,
   "metadata": {},
   "outputs": [],
   "source": [
    "file_path = 'C:\\\\Users\\\\Slim\\\\fake-news-classification\\\\data\\\\final.csv'\n",
    "finaldf.to_csv(file_path, index=False)"
   ]
  },
  {
   "cell_type": "code",
   "execution_count": 52,
   "metadata": {},
   "outputs": [],
   "source": [
    "import zipfile\n",
    "\n",
    "def zip_csv_file(csv_file_path, zip_file_path):\n",
    "    # Create a new ZIP file\n",
    "    with zipfile.ZipFile(zip_file_path, 'w') as zip_file:\n",
    "        # Add the CSV file to the ZIP file\n",
    "        zip_file.write(csv_file_path, arcname='data.csv')\n",
    "    print(f'{csv_file_path} has been zipped to {zip_file_path}.')"
   ]
  },
  {
   "cell_type": "code",
   "execution_count": 53,
   "metadata": {},
   "outputs": [
    {
     "name": "stdout",
     "output_type": "stream",
     "text": [
      "data/final.csv has been zipped to data/final.zip.\n"
     ]
    }
   ],
   "source": [
    "csv_file_path = 'data/final.csv'\n",
    "zip_file_path = 'data/final.zip'\n",
    "zip_csv_file(csv_file_path, zip_file_path)"
   ]
  },
  {
   "cell_type": "markdown",
   "metadata": {},
   "source": [
    "For reasons of size management, I will be deleting the zip and csv files that are no longer needed since I have the final.csv file that contains all the data."
   ]
  },
  {
   "cell_type": "code",
   "execution_count": 54,
   "metadata": {},
   "outputs": [],
   "source": [
    "import shutil\n",
    "shutil.rmtree('data/zipfiles')"
   ]
  },
  {
   "cell_type": "code",
   "execution_count": 55,
   "metadata": {},
   "outputs": [],
   "source": [
    "from os import listdir\n",
    "files = listdir('data')"
   ]
  },
  {
   "cell_type": "code",
   "execution_count": 56,
   "metadata": {},
   "outputs": [],
   "source": [
    "from os import remove\n",
    "for file in files:\n",
    "    if file != 'final.zip':\n",
    "        remove('data/'+file)"
   ]
  },
  {
   "cell_type": "code",
   "execution_count": 57,
   "metadata": {},
   "outputs": [
    {
     "data": {
      "text/plain": [
       "'C:\\\\Users\\\\Slim\\\\final.zip'"
      ]
     },
     "execution_count": 57,
     "metadata": {},
     "output_type": "execute_result"
    }
   ],
   "source": [
    "shutil.move(\"C:\\\\Users\\\\Slim\\\\fake-news-classification\\\\data\\\\final.zip\", \"C:\\\\Users\\\\Slim\\\\final.zip\")"
   ]
  },
  {
   "cell_type": "code",
   "execution_count": null,
   "metadata": {},
   "outputs": [],
   "source": [
    "shutil.rmtree('data/zipfiles')"
   ]
  }
 ],
 "metadata": {
  "colab": {
   "authorship_tag": "ABX9TyP7lvtzZG6QYOZcqjGTnER1",
   "provenance": []
  },
  "kernelspec": {
   "display_name": "Python 3 (ipykernel)",
   "language": "python",
   "name": "python3"
  },
  "language_info": {
   "codemirror_mode": {
    "name": "ipython",
    "version": 3
   },
   "file_extension": ".py",
   "mimetype": "text/x-python",
   "name": "python",
   "nbconvert_exporter": "python",
   "pygments_lexer": "ipython3",
   "version": "3.11.4"
  }
 },
 "nbformat": 4,
 "nbformat_minor": 4
}
